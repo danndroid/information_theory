{
 "cells": [
  {
   "cell_type": "code",
   "execution_count": 3,
   "id": "e255da76-e69c-4f20-b507-e2598ad93b8a",
   "metadata": {},
   "outputs": [],
   "source": [
    "import numpy as np\n",
    "from itertools import product"
   ]
  },
  {
   "cell_type": "code",
   "execution_count": null,
   "id": "b148fa94-e03a-433e-b060-f7485a48deae",
   "metadata": {},
   "outputs": [],
   "source": []
  },
  {
   "cell_type": "code",
   "execution_count": 4,
   "id": "b0f7ae28-a525-4efc-b2d9-caeb3867a1c7",
   "metadata": {},
   "outputs": [
    {
     "name": "stdout",
     "output_type": "stream",
     "text": [
      "2^0 = 1\n",
      "2^1 = 2\n",
      "2^2 = 4\n",
      "2^3 = 8\n",
      "2^4 = 16\n",
      "2^5 = 32\n",
      "2^6 = 64\n",
      "2^7 = 128\n",
      "2^8 = 256\n",
      "2^9 = 512\n",
      "2^10 = 1024\n"
     ]
    }
   ],
   "source": [
    "for p in [0,1,2,3,4,5,6,7,8,9,10]:\n",
    "    print(f'2^{p} = {np.power(2,p)}')"
   ]
  },
  {
   "cell_type": "markdown",
   "id": "005b7161-8910-4ccb-a439-91d2e31d60c7",
   "metadata": {},
   "source": [
    "### Alphabet $B$"
   ]
  },
  {
   "cell_type": "code",
   "execution_count": 5,
   "id": "1dfdcd37-1da5-4c2f-8fb4-6fb4a9adaab4",
   "metadata": {},
   "outputs": [
    {
     "data": {
      "text/plain": [
       "array(['0', '1'], dtype='<U1')"
      ]
     },
     "execution_count": 5,
     "metadata": {},
     "output_type": "execute_result"
    }
   ],
   "source": [
    "B = np.array(['0','1'])\n",
    "B"
   ]
  },
  {
   "cell_type": "markdown",
   "id": "1f38998f-ca3c-4fbe-9b04-e75b3470a1e5",
   "metadata": {},
   "source": [
    "### Binary words $s : s \\in B^n$"
   ]
  },
  {
   "cell_type": "code",
   "execution_count": 16,
   "id": "ba0b18c0-fb0c-4d5a-98c6-90720f6da445",
   "metadata": {},
   "outputs": [
    {
     "name": "stdout",
     "output_type": "stream",
     "text": [
      "s1: 00\n",
      "s2: 01\n",
      "s3: 10\n",
      "s4: 11\n"
     ]
    }
   ],
   "source": [
    "bits = 2\n",
    "\n",
    "for i , b in enumerate(list(product(B, repeat=bits))):\n",
    "    print(f's{i+1}:', ''.join(b))"
   ]
  },
  {
   "cell_type": "markdown",
   "id": "ead4dd43-e2d6-427d-9b14-41ab3fa786e4",
   "metadata": {},
   "source": [
    "### Binary message"
   ]
  },
  {
   "cell_type": "code",
   "execution_count": 63,
   "id": "3da7f2b4-007c-4ddb-ad7f-0e358a78eed1",
   "metadata": {},
   "outputs": [],
   "source": [
    "probs = np.array([1/2, 1/4, 1/8, 1/16, 1/64, 1/64, 1/64, 1/64])\n",
    "\n",
    "words = np.array(['0','10','110','1110','111100','111101','111110','111111'])\n",
    "\n",
    "descriptions = np.array([len(w) for w in words])"
   ]
  },
  {
   "cell_type": "code",
   "execution_count": 64,
   "id": "68febac2-437f-46de-a8f8-72b706dcf59f",
   "metadata": {},
   "outputs": [
    {
     "name": "stdout",
     "output_type": "stream",
     "text": [
      "Average message: 2.0 bits\n"
     ]
    }
   ],
   "source": [
    "average_description = np.sum(probs * descriptions)\n",
    "print(f'Average message: {average_description} bits')"
   ]
  },
  {
   "cell_type": "code",
   "execution_count": null,
   "id": "c911b444-40e3-410a-8bbc-77864c7960cf",
   "metadata": {},
   "outputs": [],
   "source": []
  }
 ],
 "metadata": {
  "kernelspec": {
   "display_name": "Python 3",
   "language": "python",
   "name": "python3"
  },
  "language_info": {
   "codemirror_mode": {
    "name": "ipython",
    "version": 3
   },
   "file_extension": ".py",
   "mimetype": "text/x-python",
   "name": "python",
   "nbconvert_exporter": "python",
   "pygments_lexer": "ipython3",
   "version": "3.9.0"
  }
 },
 "nbformat": 4,
 "nbformat_minor": 5
}
