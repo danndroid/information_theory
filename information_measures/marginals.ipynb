{
 "cells": [
  {
   "cell_type": "code",
   "execution_count": 1,
   "id": "62c80e95-7b39-45dd-8e57-d8d47e3677d3",
   "metadata": {},
   "outputs": [
    {
     "name": "stderr",
     "output_type": "stream",
     "text": [
      "/home/warrior/miniconda3/envs/inference/lib/python3.9/site-packages/tqdm/auto.py:22: TqdmWarning: IProgress not found. Please update jupyter and ipywidgets. See https://ipywidgets.readthedocs.io/en/stable/user_install.html\n",
      "  from .autonotebook import tqdm as notebook_tqdm\n"
     ]
    }
   ],
   "source": [
    "import sys\n",
    "import numpy as np\n",
    "from scipy.stats import entropy\n",
    "from pgmpy.factors.discrete import DiscreteFactor\n"
   ]
  },
  {
   "cell_type": "code",
   "execution_count": null,
   "id": "b65523e0-b11b-4bb6-8532-0d3c6ea824f0",
   "metadata": {},
   "outputs": [],
   "source": []
  },
  {
   "cell_type": "markdown",
   "id": "18d6ad95-e6b7-49cc-bdb3-173644146f2e",
   "metadata": {},
   "source": [
    "###   Joint distribution $P(X,Y)$"
   ]
  },
  {
   "cell_type": "code",
   "execution_count": 2,
   "id": "371b1153-f923-4996-bd6a-e79c151e9d10",
   "metadata": {},
   "outputs": [
    {
     "data": {
      "text/plain": [
       "array([[0.25, 0.2 , 0.15],\n",
       "       [0.2 , 0.1 , 0.1 ]])"
      ]
     },
     "execution_count": 2,
     "metadata": {},
     "output_type": "execute_result"
    }
   ],
   "source": [
    "pXY = np.array([[0.25, 0.20, 0.15],\n",
    "          [0.20, 0.10, 0.10],\n",
    "        ])\n",
    "pXY"
   ]
  },
  {
   "cell_type": "markdown",
   "id": "27545a59-3313-485e-8df2-3c239bd4fcfa",
   "metadata": {},
   "source": [
    "### Marginals $P(X)$, $P(Y)$"
   ]
  },
  {
   "cell_type": "code",
   "execution_count": 83,
   "id": "161708b2-d654-4ef8-9049-8adc69f0efe2",
   "metadata": {},
   "outputs": [
    {
     "data": {
      "text/plain": [
       "(array([0.45, 0.3 , 0.25]), 1.0)"
      ]
     },
     "execution_count": 83,
     "metadata": {},
     "output_type": "execute_result"
    }
   ],
   "source": [
    "pX = pXY.sum(0)\n",
    "pX, pX.sum()"
   ]
  },
  {
   "cell_type": "code",
   "execution_count": 84,
   "id": "51616100-56cf-4c17-aa50-8b4cfa6b9def",
   "metadata": {},
   "outputs": [
    {
     "data": {
      "text/plain": [
       "(array([0.6, 0.4]), 1.0)"
      ]
     },
     "execution_count": 84,
     "metadata": {},
     "output_type": "execute_result"
    }
   ],
   "source": [
    "pY = pXY.sum(1) # UNIFORM !!!\n",
    "pY, pY.sum()"
   ]
  },
  {
   "cell_type": "code",
   "execution_count": 85,
   "id": "bdab8006-c786-48ed-84c8-860cdbbcaebe",
   "metadata": {},
   "outputs": [
    {
     "data": {
      "text/plain": [
       "((3, 2), (2,))"
      ]
     },
     "execution_count": 85,
     "metadata": {},
     "output_type": "execute_result"
    }
   ],
   "source": [
    "pXY.T.shape,  pY.shape"
   ]
  },
  {
   "cell_type": "code",
   "execution_count": 90,
   "id": "fa617610-37d1-4ab7-8d53-35aad5880fcf",
   "metadata": {},
   "outputs": [
    {
     "name": "stdout",
     "output_type": "stream",
     "text": [
      "P(X|Y)\n",
      "[[0.41666667 0.33333333 0.25      ]\n",
      " [0.5        0.25       0.25      ]]\n",
      " \n",
      "P(Y|X)\n",
      "[[0.55555556 0.66666667 0.6       ]\n",
      " [0.44444444 0.33333333 0.4       ]]\n"
     ]
    }
   ],
   "source": [
    "pX_Y = (pXY.T/ pY).T\n",
    "\n",
    "pY_X = pXY / pX\n",
    "\n",
    "print(f'P(X|Y)\\n{pX_Y}\\n \\nP(Y|X)\\n{pY_X}')"
   ]
  },
  {
   "cell_type": "code",
   "execution_count": 91,
   "id": "8adfcc42-3cac-45a4-a6d8-19c76c8eca3c",
   "metadata": {},
   "outputs": [
    {
     "data": {
      "text/plain": [
       "array([1., 1.])"
      ]
     },
     "execution_count": 91,
     "metadata": {},
     "output_type": "execute_result"
    }
   ],
   "source": [
    "pX_Y.sum(1)"
   ]
  },
  {
   "cell_type": "code",
   "execution_count": 67,
   "id": "5d28e705-cb95-4e69-a7f4-a3a51a246880",
   "metadata": {},
   "outputs": [
    {
     "data": {
      "text/plain": [
       "array([1., 1., 1.])"
      ]
     },
     "execution_count": 67,
     "metadata": {},
     "output_type": "execute_result"
    }
   ],
   "source": [
    "pY_X.sum(0)"
   ]
  },
  {
   "cell_type": "code",
   "execution_count": null,
   "id": "da56369a-9d28-4e73-a79d-a0205be6761a",
   "metadata": {},
   "outputs": [],
   "source": []
  },
  {
   "cell_type": "code",
   "execution_count": 50,
   "id": "6af0c8ef-ac3a-4d84-bca3-d36f517e4b8a",
   "metadata": {},
   "outputs": [
    {
     "name": "stdout",
     "output_type": "stream",
     "text": [
      "+------+------+------------+\n",
      "| X    | Y    |   phi(X,Y) |\n",
      "+======+======+============+\n",
      "| X(1) | Y(1) |     0.2500 |\n",
      "+------+------+------------+\n",
      "| X(1) | Y(2) |     0.2000 |\n",
      "+------+------+------------+\n",
      "| X(2) | Y(1) |     0.2000 |\n",
      "+------+------+------------+\n",
      "| X(2) | Y(2) |     0.1000 |\n",
      "+------+------+------------+\n",
      "| X(3) | Y(1) |     0.1500 |\n",
      "+------+------+------------+\n",
      "| X(3) | Y(2) |     0.1000 |\n",
      "+------+------+------------+\n"
     ]
    }
   ],
   "source": [
    "joint = DiscreteFactor(\n",
    "    variables=['X', 'Y'],\n",
    "    cardinality=[3, 2],\n",
    "    values=[0.25,0.20, 0.20,0.10, 0.15,0.10], #given in tuples (x1,y1, x2,y2, x3,y3)\n",
    "    state_names={\n",
    "        'X':['1','2','3'],\n",
    "        'Y':['1','2']}\n",
    ")\n",
    "print(joint)"
   ]
  },
  {
   "cell_type": "code",
   "execution_count": 51,
   "id": "85fb795b-71f0-4066-ad28-d5d2951c4d3f",
   "metadata": {},
   "outputs": [
    {
     "name": "stdout",
     "output_type": "stream",
     "text": [
      "+------+----------+\n",
      "| Y    |   phi(Y) |\n",
      "+======+==========+\n",
      "| Y(1) |   0.6000 |\n",
      "+------+----------+\n",
      "| Y(2) |   0.4000 |\n",
      "+------+----------+\n"
     ]
    }
   ],
   "source": [
    "pY = joint.marginalize(variables=['X'], inplace=False)\n",
    "print(pY)"
   ]
  },
  {
   "cell_type": "code",
   "execution_count": 52,
   "id": "976c9f2a-b62a-4d02-a259-a8e9a8f8a0ba",
   "metadata": {},
   "outputs": [
    {
     "name": "stdout",
     "output_type": "stream",
     "text": [
      "+------+------+------------+\n",
      "| X    | Y    |   phi(X,Y) |\n",
      "+======+======+============+\n",
      "| X(1) | Y(1) |     0.4167 |\n",
      "+------+------+------------+\n",
      "| X(1) | Y(2) |     0.5000 |\n",
      "+------+------+------------+\n",
      "| X(2) | Y(1) |     0.3333 |\n",
      "+------+------+------------+\n",
      "| X(2) | Y(2) |     0.2500 |\n",
      "+------+------+------------+\n",
      "| X(3) | Y(1) |     0.2500 |\n",
      "+------+------+------------+\n",
      "| X(3) | Y(2) |     0.2500 |\n",
      "+------+------+------------+\n"
     ]
    }
   ],
   "source": [
    "print(joint / pY)"
   ]
  },
  {
   "cell_type": "code",
   "execution_count": null,
   "id": "e06c2cd5-6b59-4393-839b-b7261c99120a",
   "metadata": {},
   "outputs": [],
   "source": []
  },
  {
   "cell_type": "code",
   "execution_count": null,
   "id": "4ce84d9f-1ab4-4d8a-95b3-eaf8334d5c18",
   "metadata": {},
   "outputs": [],
   "source": []
  }
 ],
 "metadata": {
  "kernelspec": {
   "display_name": "Python 3",
   "language": "python",
   "name": "python3"
  },
  "language_info": {
   "codemirror_mode": {
    "name": "ipython",
    "version": 3
   },
   "file_extension": ".py",
   "mimetype": "text/x-python",
   "name": "python",
   "nbconvert_exporter": "python",
   "pygments_lexer": "ipython3",
   "version": "3.9.0"
  }
 },
 "nbformat": 4,
 "nbformat_minor": 5
}
