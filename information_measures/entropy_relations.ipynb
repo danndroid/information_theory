{
 "cells": [
  {
   "cell_type": "code",
   "execution_count": 2,
   "id": "62c80e95-7b39-45dd-8e57-d8d47e3677d3",
   "metadata": {},
   "outputs": [],
   "source": [
    "import sys\n",
    "import numpy as np\n",
    "from scipy.stats import entropy"
   ]
  },
  {
   "cell_type": "code",
   "execution_count": 3,
   "id": "b65523e0-b11b-4bb6-8532-0d3c6ea824f0",
   "metadata": {},
   "outputs": [],
   "source": [
    "eps = sys.float_info.epsilon"
   ]
  },
  {
   "cell_type": "markdown",
   "id": "18d6ad95-e6b7-49cc-bdb3-173644146f2e",
   "metadata": {},
   "source": [
    "###   Joint distribution $P(X,Y)$"
   ]
  },
  {
   "cell_type": "code",
   "execution_count": 4,
   "id": "371b1153-f923-4996-bd6a-e79c151e9d10",
   "metadata": {},
   "outputs": [
    {
     "data": {
      "text/plain": [
       "array([[0.125  , 0.0625 , 0.03125, 0.03125],\n",
       "       [0.0625 , 0.125  , 0.03125, 0.03125],\n",
       "       [0.0625 , 0.0625 , 0.0625 , 0.0625 ],\n",
       "       [0.25   , 0.     , 0.     , 0.     ]])"
      ]
     },
     "execution_count": 4,
     "metadata": {},
     "output_type": "execute_result"
    }
   ],
   "source": [
    "pXY = np.array([[1/8, 1/16, 1/32, 1/32], # Y = axis 0, X = axis 1\n",
    "                [1/16, 1/8, 1/32, 1/32],\n",
    "                [1/16, 1/16, 1/16, 1/16],\n",
    "                [1/4, 0, 0, 0]\n",
    "               ])\n",
    "pXY"
   ]
  },
  {
   "cell_type": "markdown",
   "id": "27545a59-3313-485e-8df2-3c239bd4fcfa",
   "metadata": {},
   "source": [
    "### Marginals $P(X)$, $P(Y)$"
   ]
  },
  {
   "cell_type": "code",
   "execution_count": 5,
   "id": "161708b2-d654-4ef8-9049-8adc69f0efe2",
   "metadata": {},
   "outputs": [
    {
     "name": "stdout",
     "output_type": "stream",
     "text": [
      "P(X): [0.5   0.25  0.125 0.125]\n"
     ]
    }
   ],
   "source": [
    "pX = pXY.sum(0)\n",
    "print(f'P(X): {pX}')"
   ]
  },
  {
   "cell_type": "code",
   "execution_count": 6,
   "id": "51616100-56cf-4c17-aa50-8b4cfa6b9def",
   "metadata": {},
   "outputs": [
    {
     "name": "stdout",
     "output_type": "stream",
     "text": [
      "P(X): [0.25 0.25 0.25 0.25]\n"
     ]
    }
   ],
   "source": [
    "pY = pXY.sum(1) # UNIFORM !!!\n",
    "print(f'P(X): {pY}')"
   ]
  },
  {
   "cell_type": "markdown",
   "id": "b29e38f4-1b15-4b51-9d33-84ba67456972",
   "metadata": {},
   "source": [
    "### Entropy $H(X)$,  $H(Y)$"
   ]
  },
  {
   "cell_type": "code",
   "execution_count": 7,
   "id": "dd369e43-861d-4d77-80ec-f40423575c80",
   "metadata": {},
   "outputs": [
    {
     "name": "stdout",
     "output_type": "stream",
     "text": [
      "H(X): 1.75 bits 1.75\n"
     ]
    }
   ],
   "source": [
    "hX = entropy(pX, base=2)\n",
    "print(f'H(X): {hX} bits', 7/4)"
   ]
  },
  {
   "cell_type": "code",
   "execution_count": 8,
   "id": "163ab4bb-12d4-468e-93fd-381d639dc82f",
   "metadata": {},
   "outputs": [
    {
     "name": "stdout",
     "output_type": "stream",
     "text": [
      "H(Y): 2.0 bits 2\n"
     ]
    }
   ],
   "source": [
    "hY = entropy(pY, base=2)\n",
    "print(f'H(Y): {hY} bits', 2)"
   ]
  },
  {
   "cell_type": "markdown",
   "id": "88f70f5b-977c-4122-b4fb-d720a28f9e8b",
   "metadata": {},
   "source": [
    "### Conditionals $P(X|Y)$, $P(Y|X)$ "
   ]
  },
  {
   "cell_type": "code",
   "execution_count": 9,
   "id": "2dafce6e-8d80-493a-b609-645a5a85cfcf",
   "metadata": {},
   "outputs": [
    {
     "name": "stdout",
     "output_type": "stream",
     "text": [
      "P(X|Y)\n",
      "[[0.5   0.25  0.125 0.125]\n",
      " [0.25  0.5   0.125 0.125]\n",
      " [0.25  0.25  0.25  0.25 ]\n",
      " [1.    0.    0.    0.   ]]\n",
      " \n",
      "P(Y|X)\n",
      "[[0.25  0.25  0.25  0.25 ]\n",
      " [0.125 0.5   0.25  0.25 ]\n",
      " [0.125 0.25  0.5   0.5  ]\n",
      " [0.5   0.    0.    0.   ]]\n"
     ]
    }
   ],
   "source": [
    "pX_Y = (pXY.T / pY).T\n",
    "\n",
    "pY_X = pXY / pX\n",
    "\n",
    "print(f'P(X|Y)\\n{pX_Y}\\n \\nP(Y|X)\\n{pY_X}')"
   ]
  },
  {
   "cell_type": "code",
   "execution_count": 10,
   "id": "0c10005e-fa0d-4af9-a94c-e3e9dd1e98fd",
   "metadata": {},
   "outputs": [
    {
     "data": {
      "text/plain": [
       "array([1., 1., 1., 1.])"
      ]
     },
     "execution_count": 10,
     "metadata": {},
     "output_type": "execute_result"
    }
   ],
   "source": [
    "pX_Y.sum(1)"
   ]
  },
  {
   "cell_type": "code",
   "execution_count": 11,
   "id": "d6733609-f4f4-4738-86fc-91694e03fa4d",
   "metadata": {},
   "outputs": [
    {
     "data": {
      "text/plain": [
       "array([1., 1., 1., 1.])"
      ]
     },
     "execution_count": 11,
     "metadata": {},
     "output_type": "execute_result"
    }
   ],
   "source": [
    "pY_X.sum(0)"
   ]
  },
  {
   "cell_type": "markdown",
   "id": "81f0f838-bde3-4abb-aa90-32d30a0da4e4",
   "metadata": {},
   "source": [
    "### $H(X|Y=i)$ (Nats)"
   ]
  },
  {
   "cell_type": "code",
   "execution_count": 12,
   "id": "bc965056-f63a-42fa-8277-6fdb06b9baeb",
   "metadata": {},
   "outputs": [
    {
     "data": {
      "text/plain": [
       "array([1.21300757, 1.21300757, 1.38629436, 0.        ])"
      ]
     },
     "execution_count": 12,
     "metadata": {},
     "output_type": "execute_result"
    }
   ],
   "source": [
    "np.apply_along_axis(entropy, 1, pX_Y)"
   ]
  },
  {
   "cell_type": "markdown",
   "id": "655c1c36-83c1-4d04-b3af-249e1e22ec85",
   "metadata": {},
   "source": [
    "### $H(X|Y=i)$ (Bits)"
   ]
  },
  {
   "cell_type": "code",
   "execution_count": 13,
   "id": "a9f34cb2-62d9-41e6-a718-12cd610134da",
   "metadata": {},
   "outputs": [
    {
     "data": {
      "text/plain": [
       "array([1.75, 1.75, 2.  , 0.  ])"
      ]
     },
     "execution_count": 13,
     "metadata": {},
     "output_type": "execute_result"
    }
   ],
   "source": [
    "np.log2(np.e) * np.apply_along_axis(entropy, 1, pX_Y)"
   ]
  },
  {
   "cell_type": "markdown",
   "id": "76a77b0e-c496-4bb1-bf5f-801af490792b",
   "metadata": {},
   "source": [
    "### $H(X|Y)$ (Bits)"
   ]
  },
  {
   "cell_type": "code",
   "execution_count": 16,
   "id": "38d21b82-390c-4266-be37-8cdd9bfa9015",
   "metadata": {},
   "outputs": [
    {
     "name": "stdout",
     "output_type": "stream",
     "text": [
      "H(X|y): 1.375 bits 1.375\n"
     ]
    }
   ],
   "source": [
    "hX_Y = np.sum(entropy(pX_Y.T, base=2) * pY)\n",
    "print(f'H(X|y): {hX_Y} bits', 11/8)"
   ]
  },
  {
   "cell_type": "code",
   "execution_count": 17,
   "id": "18cbdbf4-6b3c-40f4-b289-c0f22b4f3b56",
   "metadata": {},
   "outputs": [
    {
     "name": "stdout",
     "output_type": "stream",
     "text": [
      "H(X|y): 1.375 bits 1.375\n"
     ]
    }
   ],
   "source": [
    "hX_Y = np.mean(np.log2(np.e) * np.apply_along_axis(entropy, 1, pX_Y))\n",
    "print(f'H(X|y): {hX_Y} bits', 11/8)"
   ]
  },
  {
   "cell_type": "markdown",
   "id": "2d3995cc-e225-45c1-b89a-bd616dce9e45",
   "metadata": {},
   "source": [
    "### $H(Y|X)$ (Bits)\n"
   ]
  },
  {
   "cell_type": "code",
   "execution_count": 18,
   "id": "def3d23e-c3e1-45db-a372-2ba68a31938b",
   "metadata": {},
   "outputs": [
    {
     "name": "stdout",
     "output_type": "stream",
     "text": [
      "H(X|y): 1.625 bits 1.625\n"
     ]
    }
   ],
   "source": [
    "hY_X = np.sum(entropy(pY_X, base=2) * pX)\n",
    "print(f'H(X|y): {hY_X:.3f} bits', 13/8)"
   ]
  },
  {
   "cell_type": "code",
   "execution_count": 19,
   "id": "886e7af6-1ee8-4e9d-8045-b4b661e9e0e9",
   "metadata": {},
   "outputs": [
    {
     "name": "stdout",
     "output_type": "stream",
     "text": [
      "H(X|y): 1.625 bits 1.625\n"
     ]
    }
   ],
   "source": [
    "hY_X =  np.sum(pX * np.log2(np.e) * np.apply_along_axis(entropy, 0, pY_X)) # ESTE NO PUEDE TOMAR MEAN !!!!!\n",
    "print(f'H(X|y): {hY_X:.3f} bits', 13/8)"
   ]
  },
  {
   "cell_type": "code",
   "execution_count": 20,
   "id": "58dfd7b7-e01b-42e9-b221-3e6e7d40216d",
   "metadata": {},
   "outputs": [
    {
     "name": "stdout",
     "output_type": "stream",
     "text": [
      "H(X|y): 1.625 bits 1.625\n"
     ]
    }
   ],
   "source": [
    "hY_X = -np.sum(pX * pY_X*np.log2(pY_X + eps))\n",
    "print(f'H(X|y): {hY_X:.3f} bits', 13/8)"
   ]
  },
  {
   "cell_type": "markdown",
   "id": "a43e5ac3-3562-4a47-8919-19ff0919f7d1",
   "metadata": {},
   "source": [
    "### Joint entropy $H(X, Y)$"
   ]
  },
  {
   "cell_type": "code",
   "execution_count": 21,
   "id": "6c838ee7-3280-4c31-8d90-ddc52e539e52",
   "metadata": {},
   "outputs": [
    {
     "name": "stdout",
     "output_type": "stream",
     "text": [
      "H(X,Y): 3.375 bits 3.375\n"
     ]
    }
   ],
   "source": [
    "hXY = -np.sum(pXY * np.log2(pXY + eps))\n",
    "print(f'H(X,Y): {hXY:.3f} bits', 27/8)"
   ]
  },
  {
   "cell_type": "markdown",
   "id": "6ee8aa03-97db-4d41-b6a5-046e9c3eec9a",
   "metadata": {},
   "source": [
    "### Chain rule $H(X,Y) = H(X) + H(Y|X)$"
   ]
  },
  {
   "cell_type": "code",
   "execution_count": 22,
   "id": "f2807270-60f5-414f-9200-8745dcba7786",
   "metadata": {},
   "outputs": [
    {
     "name": "stdout",
     "output_type": "stream",
     "text": [
      "3.3750 = 3.3750\n"
     ]
    }
   ],
   "source": [
    "print(f'{hXY:.4f} = {hX + hY_X:.4f}')"
   ]
  },
  {
   "cell_type": "markdown",
   "id": "c0a662f4-fa1b-46f1-aeca-2e0b9460445f",
   "metadata": {},
   "source": [
    "### Chain rule $H(X,Y) = H(Y) + H(X|Y)$"
   ]
  },
  {
   "cell_type": "code",
   "execution_count": 119,
   "id": "db9cb17e-49ab-4651-bf03-23739be03f75",
   "metadata": {},
   "outputs": [
    {
     "name": "stdout",
     "output_type": "stream",
     "text": [
      "3.375 = 3.375\n"
     ]
    }
   ],
   "source": [
    "print(f'{hXY:.3f} = {hY + hX_Y}')"
   ]
  },
  {
   "cell_type": "markdown",
   "id": "9225a26e-308f-4c27-898d-48a1921d7c1c",
   "metadata": {},
   "source": [
    "### Entropies"
   ]
  },
  {
   "cell_type": "code",
   "execution_count": 23,
   "id": "07f96fbb-78ea-4ddd-b25c-33feb0c8405b",
   "metadata": {},
   "outputs": [
    {
     "name": "stdout",
     "output_type": "stream",
     "text": [
      "H(X):1.75 \n",
      "H(X|Y):1.375 \n",
      "\n",
      "H(Y):2.0 \n",
      "H(Y|X):1.625 \n",
      "\n",
      "H(X,Y):3.375\n"
     ]
    }
   ],
   "source": [
    "print(f'H(X):{hX} \\nH(X|Y):{hX_Y} \\n\\nH(Y):{hY} \\nH(Y|X):{hY_X:.3f} \\n\\nH(X,Y):{hXY:.3f}')"
   ]
  },
  {
   "cell_type": "markdown",
   "id": "47141f81-b5af-4fb3-9937-7497dae567c8",
   "metadata": {},
   "source": [
    "### $I(X:Y)= H(X) -H(X|Y) = H(Y) + H(Y|H) = I(Y:X)$"
   ]
  },
  {
   "cell_type": "code",
   "execution_count": 133,
   "id": "69a297c7-f2e2-41b2-bf1d-5eceb6c85315",
   "metadata": {},
   "outputs": [
    {
     "name": "stdout",
     "output_type": "stream",
     "text": [
      "0.375 = 0.375\n"
     ]
    }
   ],
   "source": [
    "print(f'{hX - hX_Y} = {hY - hY_X:.3f}')"
   ]
  },
  {
   "cell_type": "code",
   "execution_count": null,
   "id": "df1eb477-dd03-48a3-a7fb-b96d80419efd",
   "metadata": {},
   "outputs": [],
   "source": []
  },
  {
   "cell_type": "code",
   "execution_count": null,
   "id": "d1993d9a-f31c-4f89-8a42-968d26213b3d",
   "metadata": {},
   "outputs": [],
   "source": []
  }
 ],
 "metadata": {
  "kernelspec": {
   "display_name": "Python 3",
   "language": "python",
   "name": "python3"
  },
  "language_info": {
   "codemirror_mode": {
    "name": "ipython",
    "version": 3
   },
   "file_extension": ".py",
   "mimetype": "text/x-python",
   "name": "python",
   "nbconvert_exporter": "python",
   "pygments_lexer": "ipython3",
   "version": "3.9.0"
  }
 },
 "nbformat": 4,
 "nbformat_minor": 5
}
