{
 "cells": [
  {
   "cell_type": "code",
   "execution_count": 173,
   "id": "2d461d11-5a81-4a8c-86de-5d38dc41cdc8",
   "metadata": {},
   "outputs": [],
   "source": [
    "import numpy as np\n",
    "from pyinform.dist import Dist\n",
    "from pyinform.shannon import entropy"
   ]
  },
  {
   "cell_type": "markdown",
   "id": "066b50df-ded2-4da4-a9b5-83c5c90e7aeb",
   "metadata": {},
   "source": [
    "### FROM HISTOGRAM"
   ]
  },
  {
   "cell_type": "code",
   "execution_count": 92,
   "id": "9d47280a-8ac6-453d-9a8f-fa2fc7d0e3d7",
   "metadata": {},
   "outputs": [
    {
     "name": "stdout",
     "output_type": "stream",
     "text": [
      "[3, 0, 1, 2]\n"
     ]
    }
   ],
   "source": [
    "d = Dist([3,0,1,2]) # HISTOGRAM (EMPIRICAL DISTRIBUTION)\n",
    "print(list(d))"
   ]
  },
  {
   "cell_type": "code",
   "execution_count": 94,
   "id": "3d8d69d1-ae47-4b05-8c78-71b2e92b4a62",
   "metadata": {},
   "outputs": [
    {
     "name": "stdout",
     "output_type": "stream",
     "text": [
      "N observations: 6 \n",
      "Histogram: 4 -> [3, 0, 1, 2]\n"
     ]
    }
   ],
   "source": [
    "print(f'N observations: {d.counts()} \\nHistogram: {len(list(d))} -> {list(d)}')"
   ]
  },
  {
   "cell_type": "markdown",
   "id": "fca877c1-5358-4f74-bd1f-5c7b46aa524d",
   "metadata": {},
   "source": [
    "### MAKING OBSERVATIONS"
   ]
  },
  {
   "cell_type": "code",
   "execution_count": 105,
   "id": "8dbea0d8-fd28-42aa-a3e0-02996637afd2",
   "metadata": {},
   "outputs": [],
   "source": [
    "obs = [0,0,0,5]\n",
    "d = Dist(max(obs)+1)\n",
    "for event in obs:\n",
    "    assert(d[event] == d.tick(event) - 1)"
   ]
  },
  {
   "cell_type": "code",
   "execution_count": 102,
   "id": "cdcff4a4-6305-4440-bf10-e8a96c3f5d38",
   "metadata": {},
   "outputs": [
    {
     "name": "stdout",
     "output_type": "stream",
     "text": [
      "Symbols: 2 -> [0 5] \n",
      "N observations: 4 \n",
      "Histogram: 6 -> [3, 0, 0, 0, 0, 1]\n"
     ]
    }
   ],
   "source": [
    "print(f'Symbols: {len(np.unique(obs))} -> {np.unique(obs)} \\nN observations: {d.counts()} \\nHistogram: {len(list(d))} -> {list(d)}')"
   ]
  },
  {
   "cell_type": "markdown",
   "id": "52a9bd10-034e-4ea4-9feb-66f3d69db826",
   "metadata": {},
   "source": [
    "### ANALYSIS"
   ]
  },
  {
   "cell_type": "code",
   "execution_count": 166,
   "id": "e7a6762c-fb9c-4abb-be2c-bb991754e35f",
   "metadata": {},
   "outputs": [],
   "source": [
    "obs = [0,0,0,5]\n",
    "d = Dist(max(obs)+1)"
   ]
  },
  {
   "cell_type": "code",
   "execution_count": 167,
   "id": "1d92c887-fc5b-46ee-86db-a8581b300fc7",
   "metadata": {},
   "outputs": [
    {
     "name": "stdout",
     "output_type": "stream",
     "text": [
      "Event:0\n",
      "Event:0\n",
      "Event:0\n",
      "Event:0\n"
     ]
    }
   ],
   "source": [
    "for event in obs:\n",
    "    print(f'Event:{d[event]}')"
   ]
  },
  {
   "cell_type": "code",
   "execution_count": 168,
   "id": "61833b1b-7974-4a53-8afa-33acaf811bf0",
   "metadata": {},
   "outputs": [
    {
     "name": "stdout",
     "output_type": "stream",
     "text": [
      "Tick:1\n",
      "Tick:2\n",
      "Tick:3\n",
      "Tick:1\n"
     ]
    }
   ],
   "source": [
    "for event in obs:\n",
    "    print(f'Tick:{d.tick(event)}')"
   ]
  },
  {
   "cell_type": "code",
   "execution_count": 181,
   "id": "d5820f0d-70b2-4159-8736-c88a790fcaf6",
   "metadata": {},
   "outputs": [
    {
     "name": "stdout",
     "output_type": "stream",
     "text": [
      "Multiplicity(0): 3\n",
      "Multiplicity(0): 3\n",
      "Multiplicity(0): 3\n",
      "Multiplicity(5): 1\n"
     ]
    }
   ],
   "source": [
    "for event in obs:\n",
    "    print(f'Multiplicity({event}): {d[event]}')"
   ]
  },
  {
   "cell_type": "code",
   "execution_count": 170,
   "id": "9f977d28-ca7c-4072-ac34-ce837c25e507",
   "metadata": {},
   "outputs": [
    {
     "name": "stdout",
     "output_type": "stream",
     "text": [
      "Event:0 - Tick:1\n",
      "Event:0 - Tick:2\n",
      "Event:0 - Tick:3\n",
      "Event:5 - Tick:1\n"
     ]
    }
   ],
   "source": [
    "obs = [0,0,0,5]\n",
    "d = Dist(max(obs)+1)\n",
    "for event in obs:\n",
    "    print(f'Event:{event} - Tick:{d.tick(event)}')"
   ]
  },
  {
   "cell_type": "code",
   "execution_count": 171,
   "id": "ae43327f-6f12-4330-8804-7dbe7da567cf",
   "metadata": {},
   "outputs": [
    {
     "name": "stdout",
     "output_type": "stream",
     "text": [
      "Event:0 - Tick:1\n",
      "Event:1 - Tick:2\n",
      "Event:2 - Tick:3\n",
      "Event:0 - Tick:1\n"
     ]
    }
   ],
   "source": [
    "obs = [0,0,0,5]\n",
    "d = Dist(max(obs)+1)\n",
    "for event in obs:\n",
    "    print(f'Event:{d[event]} - Tick:{d.tick(event)}')"
   ]
  },
  {
   "cell_type": "markdown",
   "id": "45528bc0-67db-4eeb-9f9b-eee756c419f7",
   "metadata": {},
   "source": [
    "### ENTROPY"
   ]
  },
  {
   "cell_type": "code",
   "execution_count": 179,
   "id": "55f3be40-bc87-4da0-a854-ec33674fd3cb",
   "metadata": {},
   "outputs": [],
   "source": [
    "obs = [0,0,0,5]\n",
    "d = Dist(max(obs)+1)\n",
    "for event in obs:\n",
    "    d.tick(event)"
   ]
  },
  {
   "cell_type": "code",
   "execution_count": 180,
   "id": "95e8bfa0-e905-4d31-9372-3ccd618ddf93",
   "metadata": {},
   "outputs": [
    {
     "name": "stdout",
     "output_type": "stream",
     "text": [
      "Entropy:0.811 bits\n"
     ]
    }
   ],
   "source": [
    "print(f'Entropy:{entropy(d):.3f} bits')"
   ]
  },
  {
   "cell_type": "code",
   "execution_count": null,
   "id": "cd645640-3648-4c9f-be16-05820eabd64a",
   "metadata": {},
   "outputs": [],
   "source": []
  }
 ],
 "metadata": {
  "kernelspec": {
   "display_name": "Python 3",
   "language": "python",
   "name": "python3"
  },
  "language_info": {
   "codemirror_mode": {
    "name": "ipython",
    "version": 3
   },
   "file_extension": ".py",
   "mimetype": "text/x-python",
   "name": "python",
   "nbconvert_exporter": "python",
   "pygments_lexer": "ipython3",
   "version": "3.9.0"
  }
 },
 "nbformat": 4,
 "nbformat_minor": 5
}
