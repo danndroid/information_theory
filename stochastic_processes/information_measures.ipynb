{
 "cells": [
  {
   "cell_type": "code",
   "execution_count": 112,
   "id": "2d461d11-5a81-4a8c-86de-5d38dc41cdc8",
   "metadata": {},
   "outputs": [],
   "source": [
    "import numpy as np\n",
    "from pyinform.dist import Dist\n",
    "\n",
    "from pyinform.shannon import entropy, mutual_info, conditional_entropy\n",
    "\n",
    "from scipy.stats import entropy as sp_entropy\n",
    "from sklearn.metrics import mutual_info_score\n",
    "\n",
    "import sys\n",
    "eps = sys.float_info.epsilon"
   ]
  },
  {
   "cell_type": "markdown",
   "id": "45528bc0-67db-4eeb-9f9b-eee756c419f7",
   "metadata": {},
   "source": [
    "### ENTROPY"
   ]
  },
  {
   "cell_type": "code",
   "execution_count": 2,
   "id": "55f3be40-bc87-4da0-a854-ec33674fd3cb",
   "metadata": {},
   "outputs": [],
   "source": [
    "obs = [0,0,0,5]\n",
    "d = Dist(max(obs)+1)\n",
    "for event in obs:\n",
    "    d.tick(event)"
   ]
  },
  {
   "cell_type": "code",
   "execution_count": 3,
   "id": "95e8bfa0-e905-4d31-9372-3ccd618ddf93",
   "metadata": {},
   "outputs": [
    {
     "name": "stdout",
     "output_type": "stream",
     "text": [
      "Entropy:0.811 bits\n"
     ]
    }
   ],
   "source": [
    "print(f'Entropy:{entropy(d):.3f} bits')"
   ]
  },
  {
   "cell_type": "code",
   "execution_count": 4,
   "id": "2e50d102-b8db-4613-912a-6fe501523a3a",
   "metadata": {},
   "outputs": [
    {
     "name": "stdout",
     "output_type": "stream",
     "text": [
      "Entropy:0.811 b=2\n",
      "Entropy:0.406 b=4\n",
      "Entropy:0.314 b=6\n",
      "Entropy:0.270 b=8\n",
      "Entropy:0.244 b=10\n"
     ]
    }
   ],
   "source": [
    "for b in np.arange(2,12,2):\n",
    "    print(f'Entropy:{entropy(d, b=b):.3f} b={b}')"
   ]
  },
  {
   "cell_type": "markdown",
   "id": "4548f5c5-c573-4c58-a9f2-36179fde2d42",
   "metadata": {},
   "source": [
    "### MUTUAL INFORMATION"
   ]
  },
  {
   "cell_type": "code",
   "execution_count": 5,
   "id": "daadcbfa-84d5-4135-87f6-52b8bd90dd64",
   "metadata": {},
   "outputs": [
    {
     "data": {
      "text/plain": [
       "array([0, 1, 2, 3, 4, 5, 6, 7, 8, 9])"
      ]
     },
     "execution_count": 5,
     "metadata": {},
     "output_type": "execute_result"
    }
   ],
   "source": [
    "np.random.seed(2019)\n",
    "obs = np.random.randint(0, 10, 100)\n",
    "np.unique(obs)"
   ]
  },
  {
   "cell_type": "code",
   "execution_count": 6,
   "id": "26295be3-7f7d-4e2c-baf1-b82e0ad6ffd8",
   "metadata": {},
   "outputs": [
    {
     "name": "stdout",
     "output_type": "stream",
     "text": [
      "1.3322676295501878e-15\n",
      "4.440892098500626e-16\n"
     ]
    }
   ],
   "source": [
    "p_xy = Dist(100) # NUMBER OF STATES\n",
    "p_x  = Dist(10)\n",
    "p_y  = Dist(10)\n",
    "\n",
    "symbols = []\n",
    "\n",
    "for x in obs[:-1]:\n",
    "    for y in obs[1:]:\n",
    "        #print(x,y)\n",
    "        p_x.tick(x)\n",
    "        p_y.tick(y)\n",
    "        p_xy.tick(10*x + y)\n",
    "        symbols.append(10*x + y)\n",
    "\n",
    "print(mutual_info(p_xy, p_x, p_y))\n",
    "print(mutual_info(p_xy, p_x, p_y, b=10))"
   ]
  },
  {
   "cell_type": "code",
   "execution_count": 7,
   "id": "b54eae69-b819-43f9-b900-b9b720d8f0c1",
   "metadata": {},
   "outputs": [
    {
     "name": "stdout",
     "output_type": "stream",
     "text": [
      "Symbols: 10 -> [0 1 2 3 4 5 6 7 8 9] \n",
      "N observations: 9801 \n",
      "Histogram: 10 -> [1485, 1188, 990, 693, 693, 792, 891, 1188, 1386, 495]\n"
     ]
    }
   ],
   "source": [
    "print(f'Symbols: {len(np.unique(obs))} -> {np.unique(obs)} \\nN observations: {p_x.counts()} \\nHistogram: {len(list(p_x))} -> {list(p_x)}')"
   ]
  },
  {
   "cell_type": "code",
   "execution_count": 8,
   "id": "0dc2119f-0aca-4407-b6b9-ffd214465b22",
   "metadata": {},
   "outputs": [
    {
     "name": "stdout",
     "output_type": "stream",
     "text": [
      "Symbols: 10 -> [0 1 2 3 4 5 6 7 8 9] \n",
      "N observations: 9801 \n",
      "Histogram: 10 -> [1485, 1188, 1089, 693, 693, 792, 891, 1188, 1287, 495]\n"
     ]
    }
   ],
   "source": [
    "print(f'Symbols: {len(np.unique(obs))} -> {np.unique(obs)} \\nN observations: {p_y.counts()} \\nHistogram: {len(list(p_y))} -> {list(p_y)}')"
   ]
  },
  {
   "cell_type": "code",
   "execution_count": 9,
   "id": "3308028e-57ef-4229-a70d-fcd7b886f115",
   "metadata": {},
   "outputs": [
    {
     "name": "stdout",
     "output_type": "stream",
     "text": [
      "Symbols: 100 -> [ 0  1  2  3  4  5  6  7  8  9 10 11 12 13 14 15 16 17 18 19 20 21 22 23\n",
      " 24 25 26 27 28 29 30 31 32 33 34 35 36 37 38 39 40 41 42 43 44 45 46 47\n",
      " 48 49 50 51 52 53 54 55 56 57 58 59 60 61 62 63 64 65 66 67 68 69 70 71\n",
      " 72 73 74 75 76 77 78 79 80 81 82 83 84 85 86 87 88 89 90 91 92 93 94 95\n",
      " 96 97 98 99] \n",
      "N observations: 9801 \n",
      "Histogram: 100 -> [225, 180, 165, 105, 105, 120, 135, 180, 195, 75, 180, 144, 132, 84, 84, 96, 108, 144, 156, 60, 150, 120, 110, 70, 70, 80, 90, 120, 130, 50, 105, 84, 77, 49, 49, 56, 63, 84, 91, 35, 105, 84, 77, 49, 49, 56, 63, 84, 91, 35, 120, 96, 88, 56, 56, 64, 72, 96, 104, 40, 135, 108, 99, 63, 63, 72, 81, 108, 117, 45, 180, 144, 132, 84, 84, 96, 108, 144, 156, 60, 210, 168, 154, 98, 98, 112, 126, 168, 182, 70, 75, 60, 55, 35, 35, 40, 45, 60, 65, 25]\n"
     ]
    }
   ],
   "source": [
    "print(f'Symbols: {len(np.unique(symbols))} -> {np.unique(symbols)} \\nN observations: {p_xy.counts()} \\nHistogram: {len(list(p_xy))} -> {list(p_xy)}')"
   ]
  },
  {
   "cell_type": "code",
   "execution_count": 11,
   "id": "88d32e55-13d7-434d-b3d4-362fe5454d58",
   "metadata": {},
   "outputs": [
    {
     "name": "stdout",
     "output_type": "stream",
     "text": [
      "Multiplicity(0): 225 - 225\n",
      "Multiplicity(1): 180 - 405\n",
      "Multiplicity(2): 165 - 570\n",
      "Multiplicity(3): 105 - 675\n",
      "Multiplicity(4): 105 - 780\n",
      "Multiplicity(5): 120 - 900\n",
      "Multiplicity(6): 135 - 1035\n",
      "Multiplicity(7): 180 - 1215\n",
      "Multiplicity(8): 195 - 1410\n",
      "Multiplicity(9): 75 - 1485\n",
      "Multiplicity(10): 180 - 1665\n",
      "Multiplicity(11): 144 - 1809\n",
      "Multiplicity(12): 132 - 1941\n",
      "Multiplicity(13): 84 - 2025\n",
      "Multiplicity(14): 84 - 2109\n",
      "Multiplicity(15): 96 - 2205\n",
      "Multiplicity(16): 108 - 2313\n",
      "Multiplicity(17): 144 - 2457\n",
      "Multiplicity(18): 156 - 2613\n",
      "Multiplicity(19): 60 - 2673\n",
      "Multiplicity(20): 150 - 2823\n",
      "Multiplicity(21): 120 - 2943\n",
      "Multiplicity(22): 110 - 3053\n",
      "Multiplicity(23): 70 - 3123\n",
      "Multiplicity(24): 70 - 3193\n",
      "Multiplicity(25): 80 - 3273\n",
      "Multiplicity(26): 90 - 3363\n",
      "Multiplicity(27): 120 - 3483\n",
      "Multiplicity(28): 130 - 3613\n",
      "Multiplicity(29): 50 - 3663\n",
      "Multiplicity(30): 105 - 3768\n",
      "Multiplicity(31): 84 - 3852\n",
      "Multiplicity(32): 77 - 3929\n",
      "Multiplicity(33): 49 - 3978\n",
      "Multiplicity(34): 49 - 4027\n",
      "Multiplicity(35): 56 - 4083\n",
      "Multiplicity(36): 63 - 4146\n",
      "Multiplicity(37): 84 - 4230\n",
      "Multiplicity(38): 91 - 4321\n",
      "Multiplicity(39): 35 - 4356\n",
      "Multiplicity(40): 105 - 4461\n",
      "Multiplicity(41): 84 - 4545\n",
      "Multiplicity(42): 77 - 4622\n",
      "Multiplicity(43): 49 - 4671\n",
      "Multiplicity(44): 49 - 4720\n",
      "Multiplicity(45): 56 - 4776\n",
      "Multiplicity(46): 63 - 4839\n",
      "Multiplicity(47): 84 - 4923\n",
      "Multiplicity(48): 91 - 5014\n",
      "Multiplicity(49): 35 - 5049\n",
      "Multiplicity(50): 120 - 5169\n",
      "Multiplicity(51): 96 - 5265\n",
      "Multiplicity(52): 88 - 5353\n",
      "Multiplicity(53): 56 - 5409\n",
      "Multiplicity(54): 56 - 5465\n",
      "Multiplicity(55): 64 - 5529\n",
      "Multiplicity(56): 72 - 5601\n",
      "Multiplicity(57): 96 - 5697\n",
      "Multiplicity(58): 104 - 5801\n",
      "Multiplicity(59): 40 - 5841\n",
      "Multiplicity(60): 135 - 5976\n",
      "Multiplicity(61): 108 - 6084\n",
      "Multiplicity(62): 99 - 6183\n",
      "Multiplicity(63): 63 - 6246\n",
      "Multiplicity(64): 63 - 6309\n",
      "Multiplicity(65): 72 - 6381\n",
      "Multiplicity(66): 81 - 6462\n",
      "Multiplicity(67): 108 - 6570\n",
      "Multiplicity(68): 117 - 6687\n",
      "Multiplicity(69): 45 - 6732\n",
      "Multiplicity(70): 180 - 6912\n",
      "Multiplicity(71): 144 - 7056\n",
      "Multiplicity(72): 132 - 7188\n",
      "Multiplicity(73): 84 - 7272\n",
      "Multiplicity(74): 84 - 7356\n",
      "Multiplicity(75): 96 - 7452\n",
      "Multiplicity(76): 108 - 7560\n",
      "Multiplicity(77): 144 - 7704\n",
      "Multiplicity(78): 156 - 7860\n",
      "Multiplicity(79): 60 - 7920\n",
      "Multiplicity(80): 210 - 8130\n",
      "Multiplicity(81): 168 - 8298\n",
      "Multiplicity(82): 154 - 8452\n",
      "Multiplicity(83): 98 - 8550\n",
      "Multiplicity(84): 98 - 8648\n",
      "Multiplicity(85): 112 - 8760\n",
      "Multiplicity(86): 126 - 8886\n",
      "Multiplicity(87): 168 - 9054\n",
      "Multiplicity(88): 182 - 9236\n",
      "Multiplicity(89): 70 - 9306\n",
      "Multiplicity(90): 75 - 9381\n",
      "Multiplicity(91): 60 - 9441\n",
      "Multiplicity(92): 55 - 9496\n",
      "Multiplicity(93): 35 - 9531\n",
      "Multiplicity(94): 35 - 9566\n",
      "Multiplicity(95): 40 - 9606\n",
      "Multiplicity(96): 45 - 9651\n",
      "Multiplicity(97): 60 - 9711\n",
      "Multiplicity(98): 65 - 9776\n",
      "Multiplicity(99): 25 - 9801\n"
     ]
    }
   ],
   "source": [
    "d_event = {}\n",
    "s=0\n",
    "for event in np.unique(symbols):\n",
    "    s += p_xy[event]\n",
    "    d_event[event] = p_xy[event]\n",
    "    print(f'Multiplicity({event}): {p_xy[event]} - {s}')"
   ]
  },
  {
   "cell_type": "code",
   "execution_count": 12,
   "id": "30c386dc-e3b1-4420-afd8-e2c0c4fdfab8",
   "metadata": {},
   "outputs": [],
   "source": [
    "m = np.zeros((10,10))\n",
    "m2 = np.zeros((10,10))\n",
    "for x in range(10):\n",
    "    for y in range(10):\n",
    "        m[x][y] = 10*x + y\n",
    "        m2[x][y] = d_event[10*x + y]"
   ]
  },
  {
   "cell_type": "code",
   "execution_count": 13,
   "id": "f0cbfb36-19b9-4f10-a519-295d45cecf13",
   "metadata": {},
   "outputs": [
    {
     "data": {
      "text/plain": [
       "array([[ 0.,  1.,  2.,  3.,  4.,  5.,  6.,  7.,  8.,  9.],\n",
       "       [10., 11., 12., 13., 14., 15., 16., 17., 18., 19.],\n",
       "       [20., 21., 22., 23., 24., 25., 26., 27., 28., 29.],\n",
       "       [30., 31., 32., 33., 34., 35., 36., 37., 38., 39.],\n",
       "       [40., 41., 42., 43., 44., 45., 46., 47., 48., 49.],\n",
       "       [50., 51., 52., 53., 54., 55., 56., 57., 58., 59.],\n",
       "       [60., 61., 62., 63., 64., 65., 66., 67., 68., 69.],\n",
       "       [70., 71., 72., 73., 74., 75., 76., 77., 78., 79.],\n",
       "       [80., 81., 82., 83., 84., 85., 86., 87., 88., 89.],\n",
       "       [90., 91., 92., 93., 94., 95., 96., 97., 98., 99.]])"
      ]
     },
     "execution_count": 13,
     "metadata": {},
     "output_type": "execute_result"
    }
   ],
   "source": [
    "m"
   ]
  },
  {
   "cell_type": "code",
   "execution_count": 14,
   "id": "578b0287-ed20-4127-8cf4-77f7161f634e",
   "metadata": {},
   "outputs": [
    {
     "data": {
      "text/plain": [
       "array([[225., 180., 165., 105., 105., 120., 135., 180., 195.,  75.],\n",
       "       [180., 144., 132.,  84.,  84.,  96., 108., 144., 156.,  60.],\n",
       "       [150., 120., 110.,  70.,  70.,  80.,  90., 120., 130.,  50.],\n",
       "       [105.,  84.,  77.,  49.,  49.,  56.,  63.,  84.,  91.,  35.],\n",
       "       [105.,  84.,  77.,  49.,  49.,  56.,  63.,  84.,  91.,  35.],\n",
       "       [120.,  96.,  88.,  56.,  56.,  64.,  72.,  96., 104.,  40.],\n",
       "       [135., 108.,  99.,  63.,  63.,  72.,  81., 108., 117.,  45.],\n",
       "       [180., 144., 132.,  84.,  84.,  96., 108., 144., 156.,  60.],\n",
       "       [210., 168., 154.,  98.,  98., 112., 126., 168., 182.,  70.],\n",
       "       [ 75.,  60.,  55.,  35.,  35.,  40.,  45.,  60.,  65.,  25.]])"
      ]
     },
     "execution_count": 14,
     "metadata": {},
     "output_type": "execute_result"
    }
   ],
   "source": [
    "m2"
   ]
  },
  {
   "cell_type": "code",
   "execution_count": 15,
   "id": "a7e91014-990d-4935-a9cb-dd9afe32d79b",
   "metadata": {},
   "outputs": [
    {
     "data": {
      "text/plain": [
       "array([[0.02, 0.02, 0.02, 0.01, 0.01, 0.01, 0.01, 0.02, 0.02, 0.01],\n",
       "       [0.02, 0.01, 0.01, 0.01, 0.01, 0.01, 0.01, 0.01, 0.02, 0.01],\n",
       "       [0.02, 0.01, 0.01, 0.01, 0.01, 0.01, 0.01, 0.01, 0.01, 0.01],\n",
       "       [0.01, 0.01, 0.01, 0.  , 0.  , 0.01, 0.01, 0.01, 0.01, 0.  ],\n",
       "       [0.01, 0.01, 0.01, 0.  , 0.  , 0.01, 0.01, 0.01, 0.01, 0.  ],\n",
       "       [0.01, 0.01, 0.01, 0.01, 0.01, 0.01, 0.01, 0.01, 0.01, 0.  ],\n",
       "       [0.01, 0.01, 0.01, 0.01, 0.01, 0.01, 0.01, 0.01, 0.01, 0.  ],\n",
       "       [0.02, 0.01, 0.01, 0.01, 0.01, 0.01, 0.01, 0.01, 0.02, 0.01],\n",
       "       [0.02, 0.02, 0.02, 0.01, 0.01, 0.01, 0.01, 0.02, 0.02, 0.01],\n",
       "       [0.01, 0.01, 0.01, 0.  , 0.  , 0.  , 0.  , 0.01, 0.01, 0.  ]])"
      ]
     },
     "execution_count": 15,
     "metadata": {},
     "output_type": "execute_result"
    }
   ],
   "source": [
    "joint = m2/np.sum(m2)\n",
    "np.round(joint,2)"
   ]
  },
  {
   "cell_type": "markdown",
   "id": "7b331e57-2c8c-491c-bab4-9b40bcdb5030",
   "metadata": {},
   "source": [
    "### Distribution"
   ]
  },
  {
   "cell_type": "code",
   "execution_count": 69,
   "id": "27dc9cc3-9b37-4598-a13a-614fe4796edf",
   "metadata": {},
   "outputs": [
    {
     "data": {
      "text/plain": [
       "array([0.15151515, 0.12121212, 0.1010101 , 0.07070707, 0.07070707,\n",
       "       0.08080808, 0.09090909, 0.12121212, 0.14141414, 0.05050505])"
      ]
     },
     "execution_count": 69,
     "metadata": {},
     "output_type": "execute_result"
    }
   ],
   "source": [
    "pX, pY = joint.sum(1), joint.sum(0)\n",
    "pX"
   ]
  },
  {
   "cell_type": "code",
   "execution_count": 70,
   "id": "ea81de81-90f6-457b-bf7b-499f6dadc857",
   "metadata": {},
   "outputs": [
    {
     "data": {
      "text/plain": [
       "array([0.15151515, 0.12121212, 0.1010101 , 0.07070707, 0.07070707,\n",
       "       0.08080808, 0.09090909, 0.12121212, 0.14141414, 0.05050505])"
      ]
     },
     "execution_count": 70,
     "metadata": {},
     "output_type": "execute_result"
    }
   ],
   "source": [
    "p_x.dump()"
   ]
  },
  {
   "cell_type": "markdown",
   "id": "a27cf6de-dbc0-46f5-ad31-cadd79f147d6",
   "metadata": {},
   "source": [
    "### Entropy"
   ]
  },
  {
   "cell_type": "code",
   "execution_count": 74,
   "id": "808b3161-a4dd-4fef-a289-c3c5ef4dd5b7",
   "metadata": {},
   "outputs": [
    {
     "name": "stdout",
     "output_type": "stream",
     "text": [
      "Entropy:3.2495 bits\n"
     ]
    }
   ],
   "source": [
    "print(f'Entropy:{entropy(p_x):.4f} bits')"
   ]
  },
  {
   "cell_type": "code",
   "execution_count": 90,
   "id": "b00874c9-3624-4825-a45b-dbf20de162f9",
   "metadata": {},
   "outputs": [
    {
     "data": {
      "text/plain": [
       "3.249491537197391"
      ]
     },
     "execution_count": 90,
     "metadata": {},
     "output_type": "execute_result"
    }
   ],
   "source": [
    "hX = sp_entropy(pX, base=2)\n",
    "hX"
   ]
  },
  {
   "cell_type": "markdown",
   "id": "76a51559-e030-4cec-b802-d5dbc6d96de5",
   "metadata": {},
   "source": [
    "### Mutual Information"
   ]
  },
  {
   "cell_type": "code",
   "execution_count": 91,
   "id": "6253af73-74fa-4db0-9d74-8af25275bc44",
   "metadata": {},
   "outputs": [
    {
     "name": "stdout",
     "output_type": "stream",
     "text": [
      "4.440892098500626e-16\n",
      "1.3322676295501878e-15\n",
      "4.440892098500626e-16\n"
     ]
    }
   ],
   "source": [
    "print(mutual_info(p_xy, p_x, p_y, b=np.e))\n",
    "print(mutual_info(p_xy, p_x, p_y, b=2))\n",
    "print(mutual_info(p_xy, p_x, p_y, b=10))"
   ]
  },
  {
   "cell_type": "code",
   "execution_count": 104,
   "id": "d24be22e-990e-4d6b-8abe-67fec366a974",
   "metadata": {},
   "outputs": [
    {
     "name": "stdout",
     "output_type": "stream",
     "text": [
      "H(X|Y): 3.2494915371973905 bits\n",
      "I(X,Y): 4.440892098500626e-16 bits\n"
     ]
    }
   ],
   "source": [
    "pX_Y = joint/pY\n",
    "hX_Y =  np.sum(pY * np.log2(np.e) * np.apply_along_axis(sp_entropy, 0, pX_Y))\n",
    "print(f'H(X|Y): {hX_Y} bits')\n",
    "miXY = hX - hX_Y\n",
    "print(f'I(X,Y): {miXY} bits')"
   ]
  },
  {
   "cell_type": "code",
   "execution_count": 105,
   "id": "1eaddd33-d227-49fb-ab57-fea6bd01c429",
   "metadata": {},
   "outputs": [
    {
     "name": "stdout",
     "output_type": "stream",
     "text": [
      "H(X|Y): 3.2494915371973905 bits\n",
      "I(X,Y): 4.440892098500626e-16 bits\n"
     ]
    }
   ],
   "source": [
    "hX_Y = np.sum(sp_entropy(pX_Y, base=2) * pY)\n",
    "print(f'H(X|Y): {hX_Y} bits')\n",
    "miXY = hX - hX_Y\n",
    "print(f'I(X,Y): {miXY} bits')"
   ]
  },
  {
   "cell_type": "code",
   "execution_count": 111,
   "id": "5914754e-8f40-48e3-8ec8-35047d4503d9",
   "metadata": {},
   "outputs": [
    {
     "name": "stdout",
     "output_type": "stream",
     "text": [
      "H(X,Y): 6.503 bits\n",
      "H(X|Y): 3.253156039387617 bits\n",
      "I(X,Y): -0.00366450219022596 bits\n"
     ]
    }
   ],
   "source": [
    "hXY = -np.sum(joint * np.log2(joint + eps))\n",
    "print(f'H(X,Y): {hXY:.3f} bits')\n",
    "hX_Y = hXY - hX\n",
    "print(f'H(X|Y): {hX_Y} bits')\n",
    "miXY = hX - hX_Y\n",
    "print(f'I(X,Y): {miXY} bits')"
   ]
  },
  {
   "cell_type": "markdown",
   "id": "6f1ebb38-2758-48ce-95dd-cb852fefa5cf",
   "metadata": {},
   "source": [
    "### Summary"
   ]
  },
  {
   "cell_type": "markdown",
   "id": "f1ce8cf5-86e3-4f16-98df-7e33cc4431b6",
   "metadata": {},
   "source": [
    "print(f'H(X):{entropy(p_x):.4f} bits')\n",
    "print(f'H(X|Y):{conditional_entropy(p_xy, p_y, b=2):.4f} bits')\n",
    "print(f'Knowing Y does not change the description of X')\n",
    "print(f'=> The Mutual Information is 0')"
   ]
  }
 ],
 "metadata": {
  "kernelspec": {
   "display_name": "Python 3",
   "language": "python",
   "name": "python3"
  },
  "language_info": {
   "codemirror_mode": {
    "name": "ipython",
    "version": 3
   },
   "file_extension": ".py",
   "mimetype": "text/x-python",
   "name": "python",
   "nbconvert_exporter": "python",
   "pygments_lexer": "ipython3",
   "version": "3.9.0"
  }
 },
 "nbformat": 4,
 "nbformat_minor": 5
}
